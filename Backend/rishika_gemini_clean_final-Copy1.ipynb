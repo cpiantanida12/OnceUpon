{
 "cells": [
  {
   "cell_type": "code",
   "execution_count": 1,
   "id": "156c7493-b52b-4676-b58a-9e0e06833145",
   "metadata": {
    "tags": []
   },
   "outputs": [
    {
     "name": "stdout",
     "output_type": "stream",
     "text": [
      "Note: you may need to restart the kernel to use updated packages.\n"
     ]
    },
    {
     "name": "stderr",
     "output_type": "stream",
     "text": [
      "'grep' is not recognized as an internal or external command,\n",
      "operable program or batch file.\n"
     ]
    },
    {
     "name": "stdout",
     "output_type": "stream",
     "text": [
      "Note: you may need to restart the kernel to use updated packages.\n"
     ]
    },
    {
     "name": "stderr",
     "output_type": "stream",
     "text": [
      "'grep' is not recognized as an internal or external command,\n",
      "operable program or batch file.\n"
     ]
    }
   ],
   "source": [
    "%pip list | grep google-cloud-aiplatform\n",
    "%pip list | grep google-api-core"
   ]
  },
  {
   "cell_type": "code",
   "execution_count": 2,
   "id": "60175403-68fb-4974-9e1a-8922305e1962",
   "metadata": {
    "tags": []
   },
   "outputs": [],
   "source": [
    "import vertexai\n",
    "from vertexai.preview.generative_models import GenerativeModel, ChatSession, Part\n",
    "import vertexai.preview.generative_models as generative_models\n",
    "\n",
    "vertexai.init(project='adsp-capstone-once-upon', location = 'us-central1')"
   ]
  },
  {
   "cell_type": "code",
   "execution_count": 3,
   "id": "c022f3aa-e442-4a66-887c-f9dca4ad3fea",
   "metadata": {
    "tags": []
   },
   "outputs": [
    {
     "name": "stderr",
     "output_type": "stream",
     "text": [
      "c:\\Users\\Christian\\anaconda3\\envs\\llm\\Lib\\site-packages\\tqdm\\auto.py:21: TqdmWarning: IProgress not found. Please update jupyter and ipywidgets. See https://ipywidgets.readthedocs.io/en/stable/user_install.html\n",
      "  from .autonotebook import tqdm as notebook_tqdm\n",
      "No model was supplied, defaulted to sshleifer/distilbart-cnn-12-6 and revision a4f8f3e (https://huggingface.co/sshleifer/distilbart-cnn-12-6).\n",
      "Using a pipeline without specifying a model name and revision in production is not recommended.\n"
     ]
    }
   ],
   "source": [
    "model = GenerativeModel(\"gemini-1.0-pro\")\n",
    "import re\n",
    "from transformers import pipeline\n",
    "\n",
    "# Initialize the text summarization pipeline\n",
    "summarizer = pipeline(\"summarization\")\n",
    "\n",
    "def split_sentences(text):\n",
    "    # Split the text into sentences using regex\n",
    "    return re.split(r\"(?<!\\w\\.\\w.)(?<![A-Z][a-z]\\.)(?<=\\.|\\?)\\s\", text)\n",
    "\n",
    "def summarize_text(text):\n",
    "    # Use the summarization pipeline to generate a summary of the text\n",
    "    summary = summarizer(text, max_length=150, min_length=30, do_sample=False)[0]['summary_text']\n",
    "    return summary\n",
    "\n",
    "def generate_summary(input_prompt, max_tokens = 4000, characters = None):\n",
    "    input_text = input_prompt\n",
    "    # Generate response for the current chapter\n",
    "    response = model.generate_content(\n",
    "        [input_text],\n",
    "        generation_config={\n",
    "            \"max_output_tokens\": max_tokens,\n",
    "            \"temperature\": 0.9,\n",
    "            \"top_p\": 1\n",
    "        }\n",
    "    )\n",
    "    generated_text = response.text\n",
    "    print(generated_text)\n",
    "    return generated_text\n",
    "\n",
    "def generate_chapter(input_summary, chapter_number, max_tokens=7000, characters=None):\n",
    "    # Combine the summary and the last sentences to form the input prompt\n",
    "    input_text = f\"{input_summary}\"\n",
    "    \n",
    "    # Generate response for the current chapter\n",
    "    response = model.generate_content(\n",
    "        [input_text],\n",
    "        generation_config={\n",
    "            \"max_output_tokens\": max_tokens,\n",
    "            \"temperature\": 0.9,\n",
    "            \"top_p\": 1\n",
    "        }\n",
    "    )\n",
    "    generated_text = response.text\n",
    "    print(f\"Chapter {chapter_number}:\")\n",
    "    print(generated_text)\n",
    "    return generated_text\n",
    "\n",
    "def extract_characters(input_story):\n",
    "    input_text = f\"From this story, identify all the characters and their associated personality traits and actions associated with each character in English: {input_story}. \\n Give me the response in this format: \\n Character Name: <name of character> \\n Personality: <list of characteristics separated by comma> \\n Actions: <List of actions this character is likely to perform (general)>\"\n",
    "    response = model.generate_content(\n",
    "        [input_text],\n",
    "        generation_config={\n",
    "            \"temperature\": 0.9,\n",
    "            \"top_p\": 1\n",
    "        }\n",
    "    )\n",
    "    generated_text = response.text\n",
    "    #print(\"Characters and personality: \", generated_text)\n",
    "    return generated_text"
   ]
  },
  {
   "cell_type": "code",
   "execution_count": 4,
   "id": "4c31ed60-9db8-411c-8eb4-6d2d07187a34",
   "metadata": {
    "tags": []
   },
   "outputs": [],
   "source": [
    "import time\n",
    "\n",
    "def generate_story_in_chapters(summary_object, chapter1_structure, chapter2_structure, chapter3_structure):\n",
    "    \n",
    "    start_time = time.time()\n",
    "    \n",
    "    summary_input = f\"This is the outline for this 3-chapter story: {summary_object} /n Based on the title and outline, generate a LENGTHY first chapter of ATLEAST 1000 WORD TOKENS of this story in PARAGRAPHS (not bullet points) fit for a 5 year old kid in English. This chapter should have ATLEAST 1000 words. DO NOT display any additional notes, just the story that the audience should read, and match word length requirements. Overall, no. of tokens should be less than 8000 tokens (all characters included).\"\n",
    "    #print(\"\\n---- END OF CHAPTERS BACKBONE  ----\\n\")\n",
    "    \n",
    "    # Generate the first chapter\n",
    "    chapter1 = generate_chapter(summary_input, 1, max_tokens=8000)  # Using the initial input prompt\n",
    "    global characters\n",
    "    characters = extract_characters(chapter1)\n",
    "\n",
    "    # Summarize chapter1\n",
    "    chapter1_summary = summarize_text(chapter1)\n",
    "    # Generate subsequent chapters, extending the narrative\n",
    "    sentences = split_sentences(chapter1)\n",
    "    last_sentences = \" \".join(sentences[-5:]) if sentences else \"\"\n",
    "    \n",
    "    #prompt input for chapter 2\n",
    "    chapter_1_summary = f\"Second chapter title and summary: {chapter2_structure} /n Previous Chapter 1 Summary: {chapter1_summary} \\n Characters and their associated personalities and behaviour so far: {characters}\"\n",
    "    instructions_2 = f\"Taking this second chapter title and outline, previous chapter summary, and character information provided into consideration, generate a LENGTHY second chapter of ATLEAST 1000 WORD TOKENS of this story in PARAGRAPHS (not bullet points) fit for a 5 year old kid in English. This chapter should have ATLEAST 1000 words. DO NOT display any additional notes, just the story that the audience should read, and match word length requirements. Overall, no. of tokens should be less than 8000 tokens (all characters included).\"\n",
    "    final_input_2 = f\"{chapter_1_summary} \\n \\n {instructions_2}\"\n",
    "    chapter2 = generate_chapter(final_input_2, 2, max_tokens=8000)\n",
    "\n",
    "    # Summarize chapters 1 and 2\n",
    "    chapters12_summary = summarize_text(f\"{chapter2}\")\n",
    "    sentences = split_sentences(chapter2)\n",
    "    last_sentences = \" \".join(sentences[-5:]) if sentences else \"\"\n",
    "    \n",
    "    #prompt input for chapter 3\n",
    "    chapter_12_summary = f\"Third chapter title and summary: {chapter3_structure} /n Previous two Chapters Summary: {chapters12_summary} \\n Characters and their associated personalities and behaviour so far: {characters}\"\n",
    "    instructions_3 = f\"Based on this third chapter title and outline, previous two chapters summary and character information provided, generate a LENGTHY third chapter of ATLEAST 1000 WORD TOKENS of this story in PARAGRAPHS (not bullet points) fit for a 5 year old kid in English. This chapter should have ATLEAST 1000 words. DO NOT display any additional notes, just the story that the audience should read, and match word length requirements. Overall, no. of tokens should be less than 8000 tokens (all characters included).\"\n",
    "    final_input_3 = f\"{chapter_12_summary} \\n \\n {instructions_3}\"\n",
    "    chapter3 = generate_chapter(final_input_3, 3, max_tokens=8000)\n",
    "    \n",
    "    end_time = time.time()\n",
    "    total_time = end_time - start_time\n",
    "    print(f\"Total time taken: {total_time} seconds\")"
   ]
  },
  {
   "cell_type": "code",
   "execution_count": 5,
   "id": "402e1442-e606-49be-a932-e30f144b901b",
   "metadata": {
    "tags": []
   },
   "outputs": [],
   "source": [
    "chat = model.start_chat()\n",
    "\n",
    "def get_chat_response(chat: ChatSession, prompt: str) -> str:\n",
    "    text_response = []\n",
    "    responses = chat.send_message(prompt, stream=True)\n",
    "    for chunk in responses:\n",
    "        text_response.append(chunk.text)\n",
    "    return \"\".join(text_response)"
   ]
  },
  {
   "cell_type": "code",
   "execution_count": 6,
   "id": "d2d32509-930a-4c7f-baf4-c1449e75159e",
   "metadata": {
    "tags": []
   },
   "outputs": [],
   "source": [
    "# def chat_loop(chat, summary_object: str, user_response: str):\n",
    "#     while user_response.upper() == \"NO\":\n",
    "#         question = input(\"Do you want a new story or make changes to this storyline? (NEW STORY/MODIFY): \")\n",
    "#         if question.upper() == \"MODIFY\":          \n",
    "#             new_prompt = input(\"Please provide the changes you want to see in this story!: \")\n",
    "#             summary_prompt = f\"Make the following changes to your new story summary: {new_prompt}\"\n",
    "#             summary_object = get_chat_response(chat, summary_prompt)\n",
    "#             print(summary_object)\n",
    "#             user_response = input(\"Do you want to continue? (YES/NO): \")\n",
    "#         if question.upper() == \"NEW STORY\":\n",
    "#             new_prompt = input(\"Let's build you a new story! What would you like to hear a story about?\")\n",
    "#             summary_prompt = prompt = f\"You will be generating a story of 3 chapters with total narration time of 15 minutes. Give me a summary with brief descriptions for each of the three chapters of this story that is engaging for a 5 year old. The story prompt - {new_prompt}. \\n Note: You will be using this chapter wise to generate the actual chapters later on. To ensure the chapters are long enough, give enough information and detail in the summary that can be built up on during story generation.\"\n",
    "#             summary_object = get_chat_response(chat, summary_prompt)\n",
    "#             print(summary_object)\n",
    "#             user_response = input(\"Do you want to continue? (YES/NO): \")\n",
    "#     chapters = re.split(r'Chapter \\d+: ', summary_object)[1:]\n",
    "#     # Separate the chapters into individual strings\n",
    "#     chapter1_structure = \"Chapter 1: \" + chapters[0]\n",
    "#     chapter2_structure = \"Chapter 2: \" + chapters[1]\n",
    "#     chapter3_structure = \"Chapter 3: \" + chapters[2]\n",
    "#     generate_story_in_chapters(summary_object, chapter1_structure, chapter2_structure, chapter3_structure)"
   ]
  },
  {
   "cell_type": "code",
   "execution_count": 6,
   "id": "9d2a3c1d-7f67-4b8f-82f8-325c276cd3e3",
   "metadata": {
    "tags": []
   },
   "outputs": [],
   "source": [
    "#NEW -- try/except block to regenerate if errors come up\n",
    "\n",
    "def chat_loop(chat, summary_object: str, user_response: str):\n",
    "    while user_response.upper() == \"NO\":\n",
    "        question = input(\"Do you want a new story or make changes to this storyline? (NEW STORY/MODIFY): \")\n",
    "        if question.upper() == \"MODIFY\":          \n",
    "            new_prompt = input(\"Please provide the changes you want to see in this story!: \")\n",
    "            summary_prompt = f\"Make the following changes to your new story summary: {new_prompt}\"\n",
    "            summary_object = get_chat_response(chat, summary_prompt)\n",
    "            print(summary_object)\n",
    "            user_response = input(\"Do you want to continue? (YES/NO): \")\n",
    "        if question.upper() == \"NEW STORY\":\n",
    "            new_prompt = input(\"Let's build you a new story! What would you like to hear a story about?\")\n",
    "            summary_prompt = prompt = f\"You will be generating a story of 3 chapters with total narration time of 15 minutes. Give me a summary with brief descriptions for each of the three chapters of this story that is engaging for a 5 year old. The story prompt - {new_prompt}. \\n Note: You will be using this chapter wise to generate the actual chapters later on. To ensure the chapters are long enough, give enough information and detail in the summary that can be built up on during story generation.\"\n",
    "            summary_object = get_chat_response(chat, summary_prompt)\n",
    "            print(summary_object)\n",
    "            user_response = input(\"Do you want to continue? (YES/NO): \")\n",
    "    chapters = re.split(r'Chapter \\d+: ', summary_object)[1:]\n",
    "    # Separate the chapters into individual strings\n",
    "    chapter1_structure = \"Chapter 1: \" + chapters[0]\n",
    "    chapter2_structure = \"Chapter 2: \" + chapters[1]\n",
    "    chapter3_structure = \"Chapter 3: \" + chapters[2]\n",
    "    try:\n",
    "        generate_story_in_chapters(summary_object, chapter1_structure, chapter2_structure, chapter3_structure)\n",
    "    except Exception as e:\n",
    "        print(e)\n",
    "        print(\"\\n Oops Sorry! Something went wrong... let me regenrate the story for you! \\n\")\n",
    "        chat_loop(chat, summary_object, user_response)"
   ]
  },
  {
   "cell_type": "code",
   "execution_count": 7,
   "id": "3c758599-015d-4fbb-914f-426a4165f283",
   "metadata": {
    "tags": []
   },
   "outputs": [],
   "source": [
    "def identify_theme(chat):\n",
    "    themes = ['Family', 'Friendship', 'Animals', 'School', 'Holidays', 'Princess', 'Superhero', 'Adventure', 'Fantasy', 'Courage', 'Kindness']\n",
    "    theme_prompt = f\"These are the list of genres: {themes}. \\n Which of these genre from this list, can this story for which you generated a summary fall into? \\n Response Format - Python List of names of the genres in quotes separated by commas.\"\n",
    "    theme_classification = get_chat_response(chat, theme_prompt)\n",
    "    return theme_classification"
   ]
  },
  {
   "cell_type": "code",
   "execution_count": 9,
   "id": "3dd3cff3-4531-4266-b4e9-3a1a2b936843",
   "metadata": {
    "tags": []
   },
   "outputs": [],
   "source": [
    "#user_age = 10 \n",
    "\n",
    "#USER EXPERIENCE\n",
    "#input_from_user = \"A story about a blind boy named mcqueen who wanted to fly planes\"\n",
    "#prompt = f\"You will be generating a story of 3 chapters with total narration time of 15 minutes. Give me a summary with brief descriptions for each of the three chapters of this story that is engaging for a {user_age} year old. The story prompt - {input_from_user}. \\n Note: You will be using this chapter wise to generate the actual chapters later on. To ensure the chapters are long enough, give enough information and detail in the summary that can be built up on during story generation. Each chapter's summary should be in a paragrah format.\"\n",
    "#print(get_chat_response(chat, prompt))\n",
    "#summary_object = get_chat_response(chat, prompt)\n",
    "#print(summary_object)\n",
    "\n",
    "#user_response = input(\"Do you want to continue? (YES/NO): \")\n",
    "#chat_loop(chat, summary_object, user_response)"
   ]
  },
  {
   "cell_type": "markdown",
   "id": "cc269d33-bacb-4d99-a989-23d840fc0f78",
   "metadata": {},
   "source": [
    "### ***Blind Boy Becoming Pilot***"
   ]
  },
  {
   "cell_type": "code",
   "execution_count": 8,
   "id": "8152067d-076b-46cc-af2e-e62ed7be1d31",
   "metadata": {},
   "outputs": [
    {
     "name": "stderr",
     "output_type": "stream",
     "text": [
      "c:\\Users\\Christian\\anaconda3\\envs\\llm\\Lib\\site-packages\\google\\auth\\_default.py:76: UserWarning: Your application has authenticated using end user credentials from Google Cloud SDK without a quota project. You might receive a \"quota exceeded\" or \"API not enabled\" error. See the following page for troubleshooting: https://cloud.google.com/docs/authentication/adc-troubleshooting/user-creds. \n",
      "  warnings.warn(_CLOUD_SDK_CREDENTIALS_WARNING)\n"
     ]
    }
   ],
   "source": [
    "user_age = 6\n",
    "\n",
    "# #USER EXPERIENCE\n",
    "input_from_user = \"A story about a blind boy becoming a pilot.\"\n",
    "prompt = f\"You will be generating a story of 3 chapters with total narration time of 15 minutes. Give me a summary with brief descriptions for each of the three chapters of this story that is engaging for a {user_age} year old. The story prompt - {input_from_user}. \\n Note: You will be using this chapter wise to generate the actual chapters later on. To ensure the chapters are long enough, give enough information and detail in the summary that can be built up on during story generation. Each chapter's summary should be in a paragrah format.\"\n",
    "# #print(get_chat_response(chat, prompt))\n",
    "summary_object = get_chat_response(chat, prompt)\n",
    "# print(summary_object)\n",
    "\n",
    "# user_response = input(\"Do you want to continue? (YES/NO): \")\n",
    "# chat_loop(chat, summary_object, user_response)"
   ]
  },
  {
   "cell_type": "markdown",
   "id": "2f3c57d7-02ee-4e0e-ab63-e061fd4e0d2a",
   "metadata": {},
   "source": [
    "### Mia - Small town girl becomes successful baker"
   ]
  },
  {
   "cell_type": "code",
   "execution_count": 12,
   "id": "fc71fb15-3aca-4dab-ba81-600c886d4374",
   "metadata": {},
   "outputs": [],
   "source": [
    "# user_age = 6\n",
    "\n",
    "# #USER EXPERIENCE\n",
    "# input_from_user = \"A story Mia, a small town girl, becoming the best chef.\"\n",
    "# prompt = f\"You will be generating a story of 3 chapters with total narration time of 15 minutes. Give me a summary with brief descriptions for each of the three chapters of this story that is engaging for a {user_age} year old. The story prompt - {input_from_user}. \\n Note: You will be using this chapter wise to generate the actual chapters later on. To ensure the chapters are long enough, give enough information and detail in the summary that can be built up on during story generation. Each chapter's summary should be in a paragrah format.\"\n",
    "# #print(get_chat_response(chat, prompt))\n",
    "# summary_object = get_chat_response(chat, prompt)\n",
    "# print(summary_object)\n",
    "\n",
    "# user_response = input(\"Do you want to continue? (YES/NO): \")\n",
    "# chat_loop(chat, summary_object, user_response)"
   ]
  },
  {
   "cell_type": "markdown",
   "id": "a2be6d96-5ebc-42ab-95e3-c27939a8bb43",
   "metadata": {},
   "source": [
    "### ***Sara discovers secret door in her backyard that leads to a magical forest***"
   ]
  },
  {
   "cell_type": "code",
   "execution_count": 9,
   "id": "59249186-f218-41ae-8571-40202727894d",
   "metadata": {
    "tags": []
   },
   "outputs": [
    {
     "name": "stdout",
     "output_type": "stream",
     "text": [
      "## Chapter Summaries:\n",
      "\n",
      "**Chapter 1: The Mysterious Door**\n",
      "\n",
      "* Sara, a bright and curious little girl, loves exploring her backyard. One sunny afternoon, she notices a small, rusty door hidden beneath the climbing vines.\n",
      "* Driven by an insatiable curiosity, Sara pushes the door open, revealing a hidden passageway shrouded in soft, colorful light.\n",
      "* The passage leads to a breathtaking world – a magical forest teeming with vibrant colors, singing flowers, and talking animals. \n",
      "*  Sara befriends a wise old owl who tells her the forest is in danger. A mischievous creature called \"The Shadow\" has stolen the magical spring that gives life to the forest, causing the flowers to wilt and the animals to lose their vitality.\n",
      "* Determined to help her new friends, Sara sets out on a quest to find the stolen spring and restore the forest's magic. \n",
      "\n",
      "**Chapter 2: The Adventures Begin**\n",
      "\n",
      "* Guided by the owl's cryptic clues, Sara embarks on a journey through the magical forest.\n",
      "* She encounters friendly talking animals along the way, such as a playful squirrel who provides vital information, a singing bird who guides Sara through tricky paths, and a brave rabbit who offers help in navigating perilous situations.\n",
      "*  Together, they face challenges such as crossing a rushing river, navigating a maze of whispering trees, and outsmarting a grumpy troll guarding a secret tunnel.\n",
      "* Through teamwork and perseverance, Sara and her animal friends learn valuable lessons about courage, friendship, and the importance of believing in yourself.\n",
      "* They finally reach the Shadow's lair, a dark and spooky cave hidden within a treacherous mountain pass.\n",
      "\n",
      "**Chapter 3: Confronting the Shadow and Saving the Forest**\n",
      "\n",
      "* Inside the cave, Sara comes face-to-face with the Shadow, a shadowy creature fueled by negativity and jealousy of the forest's magic.\n",
      "* The Shadow demands the return of the stolen spring in exchange for safe passage out of the cave.\n",
      "* Using her quick thinking and kindness, Sara outsmarts the Shadow, reminding it of the joy and beauty the forest brings to all creatures.\n",
      "* The Shadow, moved by Sara's words and the sight of the struggling forest, experiences a change of heart and returns the stolen spring.\n",
      "* The animals rejoice as the spring's magic flows back into the forest, restoring its vibrancy and life.\n",
      "*  Sara bids farewell to her newfound friends, knowing that she will always cherish the time she spent in the magical forest. She returns home, forever changed by her adventure and vowing to protect the magic whenever she can.\n",
      "\n",
      "\n",
      "Chapter 1:\n",
      "## Chapter 1: The Mysterious Door\n",
      "\n",
      "Once upon a time, in a cozy little town nestled amongst rolling hills, lived a spirited young girl named Sara. With her bright eyes, infectious laughter, and an unquenchable thirst for adventure, Sara could turn any ordinary day into an extraordinary one.\n",
      "\n",
      "Every afternoon, after finishing her schoolwork, Sara would race out into her backyard, a haven of overgrown bushes, towering trees, and hidden treasures waiting to be discovered. This warm, sunny afternoon was no different.\n",
      "\n",
      "As she hopped over logs and ducked under branches, sunlight filtering through the leaves painted playful patterns on the ground. Suddenly, something glittered amidst the tangle of vines near the old oak tree. Curious, Sara pushed aside the leaves, revealing a small, rusty door hidden beneath.\n",
      "\n",
      "Intrigued, Sara reached out and gently pushed the door open. A soft, colorful glow spilled out, beckoning her closer. With a mix of excitement and trepidation, she stepped through the threshold.\n",
      "\n",
      "The world on the other side was unlike anything Sara had ever seen. Lush green leaves shimmered with iridescent hues, flowers sang sweet melodies in the breeze, and furry little creatures with sparkling eyes chattered amongst themselves. She had stumbled upon a magical forest.\n",
      "\n",
      "As she walked deeper into this enchanted realm, a wise old owl with feathery eyebrows and twinkling eyes swooped down to greet her. “Welcome, Sara,” he hooted, his voice deep and gentle. “I have been expecting you.”\n",
      "\n",
      "Startled, Sara asked, “Expecting me? But who are you?”\n",
      "\n",
      "“I am Orion, the guardian of this forest,” the owl replied. He explained that the forest was in grave danger. A mischievous creature called “The Shadow” had stolen the magical spring that gave life to the forest, causing everything to wither and fade.\n",
      "\n",
      "Sara’s heart sank. The vibrant colors of the flowers, the cheerful songs of the birds, the playful chatter of the animals – all of it seemed to dim with the absence of the spring. “But why would anyone do such a thing?” she asked, her voice filled with concern.\n",
      "\n",
      "Orion explained that The Shadow, fueled by envy and negativity, wanted to extinguish the joy and beauty of the forest. “It is up to you, Sara,” Orion continued, “to find the stolen spring and restore the magic.”\n",
      "\n",
      "Determined to help her newfound friends, Sara readily accepted the challenge. With Orion’s guidance, she set off on a quest through the winding paths of the magical forest.\n",
      "\n",
      "Along the way, she encountered a mischievous squirrel who, despite his playful demeanor, provided vital clues about The Shadow’s whereabouts. A singing bird with a melodious voice guided Sara through tricky paths, her songs acting as a map through the dense undergrowth.\n",
      "\n",
      "She even befriended a brave rabbit who, despite his small stature, offered his help in navigating perilous situations. Together, they faced challenges with courage and determination.\n",
      "\n",
      "They crossed a rushing river by using fallen logs as bridges, their combined strength and quick thinking ensuring a safe passage. They navigated a maze of whispering trees, deciphering the riddles they posed and emerging victorious. They outsmarted a grumpy troll guarding a secret tunnel, using their wit and teamwork to bypass his defenses.\n",
      "\n",
      "With each challenge overcome, Sara’s confidence grew. She learned that friendship, courage, and believing in oneself were the keys to unlocking any obstacle. Finally, after days of adventure, they reached the Shadow’s lair – a dark and spooky cave hidden within a treacherous mountain pass.\n",
      "\n",
      "Standing at the entrance, Sara took a deep breath and prepared to face the unknown. What awaits her in the depths of the cave? Will she succeed in retrieving the stolen spring and save the magical forest? The answers lay ahead, waiting to be discovered in the next chapter of Sara’s extraordinary adventure. \n",
      "\n",
      "Chapter 2:\n",
      "## Chapter 2: The Adventures Begin\n",
      "\n",
      "The sun peeked shyly through the leaves, casting dancing patterns on the forest floor where Sara stood. The owl's words echoed in her mind: \"Follow the whispering stream, brave adventurer, and seek the hidden passage guarded by the grumpy troll.\"\n",
      "\n",
      "With a determined glint in her eyes, Sara set off, following the meandering stream that gurgled merrily through the lush undergrowth. The air was alive with the sounds of chirping birds and buzzing insects, and the scent of wildflowers hung heavy in the air. As she walked, she couldn't help but feel a sense of wonder and excitement at the thought of the adventures that lay ahead.\n",
      "\n",
      "Suddenly, a flash of orange caught her eye. A playful squirrel scampered down a tree trunk, its bushy tail twitching with amusement.\n",
      "\n",
      "\"Hello!\" Sara called out, her voice filled with curiosity.\n",
      "\n",
      "The squirrel, as if understanding her, stopped and cocked its head, its bright eyes gleaming with intelligence.\n",
      "\n",
      "\"Are you lost, little one?\" Sara asked, her heart warming at the sight of the friendly creature.\n",
      "\n",
      "The squirrel, in response, chattered excitedly and pointed its furry paw towards a hidden path behind a cluster of ferns.\n",
      "\n",
      "Intrigued, Sara followed the squirrel's lead, her heart pounding with anticipation. The path led her deeper into the forest, where the sunlight barely touched the ground, and ancient trees stood tall and silent.\n",
      "\n",
      "As she walked, she encountered a beautiful singing bird perched on a branch, its melodious voice filling the air with a sweet melody.\n",
      "\n",
      "\"Hello, little bird,\" Sara greeted, her voice filled with admiration. \"Your song is so beautiful!\"\n",
      "\n",
      "The bird chirped in response and fluttered its wings, as if beckoning her to follow.\n",
      "\n",
      "And so, Sara followed the bird's lead, her footsteps guided by the enchanting melody. The path led her through a maze of whispering trees, their leaves rustling in the gentle breeze, as if sharing secrets with the wind.\n",
      "\n",
      "Suddenly, the path came to an abrupt end, blocked by a towering mountain pass. At its base, guarding a narrow tunnel, stood a grumpy troll with a bushy beard and a scowl etched on his face.\n",
      "\n",
      "\"Halt!\" the troll boomed, his voice echoing through the valley. \"Who dares disturb my slumber?\"\n",
      "\n",
      "Sara, though her heart was pounding in her chest, took a deep breath and stood tall. \"I am Sara,\" she announced, her voice filled with courage. \"And I am here to seek the lost spring that will bring life back to this beautiful forest.\"\n",
      "\n",
      "The troll scoffed, his eyes narrowed. \"A silly little girl, that's what you are,\" he sneered. \"You'll never get past me.\"\n",
      "\n",
      "Undeterred, Sara reached out to her new friends, the squirrel and the singing bird.\n",
      "\n",
      "\"We can do this together,\" she said, her voice filled with determination. \"The squirrel can distract the troll, and the bird can guide me through the tunnel.\"\n",
      "\n",
      "The squirrel, understanding her plan, darted around the troll's feet, chattering excitedly. The bird, with a sweet trill, flew down and perched on Sara's shoulder.\n",
      "\n",
      "With a sly grin, Sara sprinted towards the tunnel, the bird guiding her way through the darkness. The troll, distracted by the squirrel, roared in frustration but was unable to stop her.\n",
      "\n",
      "As Sara emerged from the tunnel, she found herself in a breathtaking clearing. In the center, a shimmering spring gurgled merrily, its water sparkling like diamonds in the sunlight.\n",
      "\n",
      "\"We did it!\" Sara exclaimed, her heart filled with joy. \"We found the spring!\"\n",
      "\n",
      "The squirrel and the singing bird chirped and sang in celebration, their voices echoing through the clearing.\n",
      "\n",
      "Together, they lifted the spring and carried it back through the tunnel, the grumpy troll watching in bewildered silence. As they reached the forest's edge, they were greeted by a chorus of cheers from the animals, who had been watching their progress with bated breath.\n",
      "\n",
      "With a joyous laugh, Sara poured the spring's water onto the withered plants and trees. As if by magic, the forest came alive, its leaves unfurling, its flowers blooming, and its creatures rejoicing.\n",
      "\n",
      "And so, the Shadow's mischief was undone, and the forest was once again a place of beauty and wonder. Sara, with her courage, kindness, and determination, had proven that even the smallest of creatures can achieve great things.\n",
      "Chapter 3:\n",
      "## Chapter 3: Confronting the Shadow and Saving the Forest\n",
      "\n",
      "The air in the cave was cool and damp, smelling faintly of moss and earth. Sara took a deep breath, feeling a mix of excitement and nervousness as she stepped into the unknown. Orion perched on her shoulder, his keen eyes scanning the darkness ahead.\n",
      "\n",
      "\"Remember, Sara,\" he whispered, \"the Shadow feeds on negativity. Stay positive, be brave, and don't let it frighten you.\"\n",
      "\n",
      "Sara nodded, gripping her makeshift torch tighter. The tunnel wound deeper into the belly of the mountain, the silence broken only by the steady drip of water and the occasional rustle of unseen creatures. As they walked, Orion told her stories of the Shadow, how it had once been a benevolent creature, but had been corrupted by envy and bitterness.\n",
      "\n",
      "Suddenly, the tunnel opened into a vast cavern. In the center, a shadowy figure loomed, its form shifting and swirling like a cloud of smoke. Two glowing red eyes pierced the darkness, fixing on Sara with an intensity that made her heart skip a beat.\n",
      "\n",
      "\"So, you have come at last,\" the Shadow boomed, its voice echoing through the cavern. \"Have you brought back my stolen spring?\"\n",
      "\n",
      "Sara swallowed hard, but her voice remained steady. \"I have not. But I will not leave until I understand why you took it.\"\n",
      "\n",
      "The Shadow laughed, a harsh, grating sound that sent shivers down Sara's spine. \"You are a curious one, child. But curiosity can be dangerous. Especially when it leads you to places you don't belong.\"\n",
      "\n",
      "\"This forest belongs to everyone,\" Sara countered, her chin held high. \"And you are harming it.\"\n",
      "\n",
      "The Shadow chuckled darkly. \"You misunderstand, child. I am not harming the forest. I am simply taking what is rightfully mine. The spring is the source of its power, and it should belong to me.\"\n",
      "\n",
      "\"But without the spring, the animals are suffering, the trees are wilting, and the magic is fading,\" Sara argued. \"Don't you see what you are doing?\"\n",
      "\n",
      "The Shadow hesitated, its form flickering for a moment. \"I... I do not care,\" it finally muttered. \"The forest has always been jealous of my power. It is only fair that I take something from it in return.\"\n",
      "\n",
      "Sara felt a surge of compassion for the creature. It was clear that the Shadow was filled with pain and anger. But there was also a glimmer of something else, something that hinted at a better nature beneath the darkness.\n",
      "\n",
      "\"The forest doesn't hate you,\" she said softly. \"It just wants you to be happy. Why don't you let go of your anger and be a part of it again?\"\n",
      "\n",
      "The Shadow remained silent for a long moment, its red eyes locked on Sara's. Then, slowly, it began to shrink and change shape. The swirling smoke dissipated, revealing a creature that looked surprisingly frail and vulnerable.\n",
      "\n",
      "\"I... I don't know how,\" the creature whispered, its voice trembling. \"I have been angry for so long, I don't remember how to be anything else.\"\n",
      "\n",
      "Sara stepped forward, her hand outstretched. \"I can help you,\" she said gently. \"But you have to trust me.\"\n",
      "\n",
      "The creature hesitated, then stepped closer and placed its small, cold hand in Sara's. A surge of warmth flowed between them, and the creature's eyes began to glow with a soft, golden light.\n",
      "\n",
      "With a deep breath, the creature raised its hand and pointed it towards the cave wall. A beam of golden light shot out, striking a hidden panel. The panel slid open, revealing a small spring bubbling merrily within.\n",
      "\n",
      "\"There it is,\" Sara exclaimed, her eyes sparkling with joy. \"The spring!\"\n",
      "\n",
      "The creature smiled sadly. \"I... I don't deserve to keep it. It belongs to the forest.\"\n",
      "\n",
      "With a flick of its wrist, the creature sent the spring flying out of the cave, back towards the forest. As it soared through the air, it grew larger and larger, until it landed with a splash in the center of the clearing.\n",
      "\n",
      "A cheer erupted from the animals as the spring's magic flowed back into the forest, reviving the trees and filling the air with a sweet scent. The Shadow watched in silence, its form shimmering with a newfound light.\n",
      "\n",
      "\"Thank you,\" it said to Sara. \"You have shown me the way back to the light.\"\n",
      "\n",
      "Sara smiled. \"You were always capable of finding your own way,\" she said. \"I was just there to help you remember.\"\n",
      "\n",
      "With a final nod, the Shadow turned and disappeared into the darkness. Sara knew that she would never forget the encounter, nor the valuable lesson she had learned about the power of compassion and forgiveness.\n",
      "\n",
      "As the sun began to set, Sara said goodbye to her newfound friends and set off for home. The forest was alive and vibrant once more, and she knew that she would always cherish the time she had spent there. And as she walked through the trees, she couldn't help but feel a sense of pride in herself, knowing that she had played a part in saving its magic.\n",
      "Total time taken: 67.49471592903137 seconds\n"
     ]
    }
   ],
   "source": [
    "user_age = 6\n",
    "\n",
    "#USER EXPERIENCE\n",
    "input_from_user = \"A little girl named Sara discovers a secret door in her backyard that leads to a magical forest where animals can talk, and she has to help the animals solve a mystery to save their home.\"\n",
    "prompt = f\"You will be generating a story of 3 chapters with total narration time of 15 minutes. Give me a summary with brief descriptions for each of the three chapters of this story that is engaging for a {user_age} year old. The story prompt - {input_from_user}. \\n Note: You will be using this chapter wise to generate the actual chapters later on. To ensure the chapters are long enough, give enough information and detail in the summary that can be built up on during story generation. Each chapter's summary should be in a paragrah format.\"\n",
    "#print(get_chat_response(chat, prompt))\n",
    "summary_object = get_chat_response(chat, prompt)\n",
    "print(summary_object)\n",
    "\n",
    "user_response = input(\"Do you want to continue? (YES/NO): \")\n",
    "chat_loop(chat, summary_object, user_response)"
   ]
  },
  {
   "cell_type": "code",
   "execution_count": 14,
   "id": "d82fe72f-0c55-4a52-9e21-c243703c559a",
   "metadata": {},
   "outputs": [],
   "source": [
    "import textstat"
   ]
  },
  {
   "cell_type": "code",
   "execution_count": null,
   "id": "df7acfc7-af7b-42c5-a053-9d04e685f0b5",
   "metadata": {},
   "outputs": [],
   "source": []
  }
 ],
 "metadata": {
  "environment": {
   "kernel": "python3",
   "name": "tf2-cpu.2-11.m119",
   "type": "gcloud",
   "uri": "us-docker.pkg.dev/deeplearning-platform-release/gcr.io/tf2-cpu.2-11:m119"
  },
  "kernelspec": {
   "display_name": "llm",
   "language": "python",
   "name": "python3"
  },
  "language_info": {
   "codemirror_mode": {
    "name": "ipython",
    "version": 3
   },
   "file_extension": ".py",
   "mimetype": "text/x-python",
   "name": "python",
   "nbconvert_exporter": "python",
   "pygments_lexer": "ipython3",
   "version": "3.11.10"
  }
 },
 "nbformat": 4,
 "nbformat_minor": 5
}
